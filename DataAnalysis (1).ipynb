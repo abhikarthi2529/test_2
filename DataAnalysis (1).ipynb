{
 "cells": [
  {
   "cell_type": "code",
   "execution_count": 1,
   "id": "e069a5dd-93d0-45ad-a880-ca963cab24f2",
   "metadata": {},
   "outputs": [],
   "source": [
    "import pandas as pd"
   ]
  },
  {
   "cell_type": "code",
   "execution_count": 2,
   "id": "1fe94fd4-0208-4946-b3e8-9a8d160485db",
   "metadata": {},
   "outputs": [],
   "source": [
    "df = pd.read_csv(\"personality_dataset.csv\")"
   ]
  },
  {
   "cell_type": "code",
   "execution_count": 3,
   "id": "2233cd44-3ed1-48a1-b702-97f5331988b4",
   "metadata": {},
   "outputs": [
    {
     "name": "stdout",
     "output_type": "stream",
     "text": [
      "      Time_spent_Alone Stage_fear  Social_event_attendance  Going_outside  \\\n",
      "0                  4.0         No                      4.0            6.0   \n",
      "1                  9.0        Yes                      0.0            0.0   \n",
      "2                  9.0        Yes                      1.0            2.0   \n",
      "3                  0.0         No                      6.0            7.0   \n",
      "4                  3.0         No                      9.0            4.0   \n",
      "...                ...        ...                      ...            ...   \n",
      "2895               3.0         No                      7.0            6.0   \n",
      "2896               3.0         No                      8.0            3.0   \n",
      "2897               4.0        Yes                      1.0            1.0   \n",
      "2898              11.0        Yes                      1.0            NaN   \n",
      "2899               3.0         No                      6.0            6.0   \n",
      "\n",
      "     Drained_after_socializing  Friends_circle_size  Post_frequency  \\\n",
      "0                           No                 13.0             5.0   \n",
      "1                          Yes                  0.0             3.0   \n",
      "2                          Yes                  5.0             2.0   \n",
      "3                           No                 14.0             8.0   \n",
      "4                           No                  8.0             5.0   \n",
      "...                        ...                  ...             ...   \n",
      "2895                        No                  6.0             6.0   \n",
      "2896                        No                 14.0             9.0   \n",
      "2897                       Yes                  4.0             0.0   \n",
      "2898                       Yes                  2.0             0.0   \n",
      "2899                        No                  6.0             9.0   \n",
      "\n",
      "     Personality  \n",
      "0      Extrovert  \n",
      "1      Introvert  \n",
      "2      Introvert  \n",
      "3      Extrovert  \n",
      "4      Extrovert  \n",
      "...          ...  \n",
      "2895   Extrovert  \n",
      "2896   Extrovert  \n",
      "2897   Introvert  \n",
      "2898   Introvert  \n",
      "2899   Extrovert  \n",
      "\n",
      "[2900 rows x 8 columns]\n"
     ]
    }
   ],
   "source": [
    "print(df)"
   ]
  },
  {
   "cell_type": "code",
   "execution_count": null,
   "id": "d81a28f7-d37f-429c-8863-86e9a18a2419",
   "metadata": {},
   "outputs": [],
   "source": []
  }
 ],
 "metadata": {
  "kernelspec": {
   "display_name": "Python 3 (ipykernel)",
   "language": "python",
   "name": "python3"
  },
  "language_info": {
   "codemirror_mode": {
    "name": "ipython",
    "version": 3
   },
   "file_extension": ".py",
   "mimetype": "text/x-python",
   "name": "python",
   "nbconvert_exporter": "python",
   "pygments_lexer": "ipython3",
   "version": "3.12.7"
  }
 },
 "nbformat": 4,
 "nbformat_minor": 5
}
