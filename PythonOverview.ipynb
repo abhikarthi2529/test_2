{
 "cells": [
  {
   "cell_type": "markdown",
   "id": "414fb38a-56fd-4aed-b615-285c73c81346",
   "metadata": {},
   "source": [
    "Python Overview"
   ]
  },
  {
   "cell_type": "code",
   "execution_count": 37,
   "id": "57e50edf-6a72-4d66-a410-63c233fd48eb",
   "metadata": {},
   "outputs": [
    {
     "name": "stdout",
     "output_type": "stream",
     "text": [
      "30\n"
     ]
    }
   ],
   "source": [
    "x = 10; y = 10; z = 10;\n",
    "print(x+y+z)"
   ]
  },
  {
   "cell_type": "markdown",
   "id": "830bb792-7f4e-4759-8637-b51b1b94ae8c",
   "metadata": {},
   "source": [
    "Only functions, modules, and classes create a new local scope. Everything else shares the outer scope."
   ]
  },
  {
   "cell_type": "code",
   "execution_count": 38,
   "id": "b968667d-0cc4-4adb-913d-b2a3c311efb4",
   "metadata": {},
   "outputs": [
    {
     "name": "stdout",
     "output_type": "stream",
     "text": [
      "2 <class 'int'>\n",
      "Abhi <class 'str'>\n",
      "Abhi says hi\n"
     ]
    }
   ],
   "source": [
    "name = 2\n",
    "print(name, type(name))\n",
    "name = \"Abhi\"\n",
    "print(name, type(name))\n",
    "# to stop printing in a new line, the delimiter by default is \\n\n",
    "print(\"Abhi\", end = \" \")\n",
    "print(\"says hi\")"
   ]
  },
  {
   "cell_type": "code",
   "execution_count": 39,
   "id": "0fb6140c-ddad-4523-bb87-1b2efd08e3d0",
   "metadata": {},
   "outputs": [
    {
     "name": "stdout",
     "output_type": "stream",
     "text": [
      "1 <class 'int'>\n",
      "2.0 <class 'float'>\n",
      "True <class 'bool'>\n",
      "Abhi <class 'str'>\n"
     ]
    }
   ],
   "source": [
    "# All the class types \n",
    "arr = [1, 2.0, True, \"Abhi\"]\n",
    "for element in arr:\n",
    "    print(element, type(element))"
   ]
  },
  {
   "cell_type": "code",
   "execution_count": 40,
   "id": "bae55bf5-5e71-4b93-824e-3aa7234e2270",
   "metadata": {},
   "outputs": [
    {
     "name": "stdout",
     "output_type": "stream",
     "text": [
      "1,2,3\n"
     ]
    },
    {
     "ename": "TypeError",
     "evalue": "'tuple' object does not support item assignment",
     "output_type": "error",
     "traceback": [
      "\u001b[1;31m---------------------------------------------------------------------------\u001b[0m",
      "\u001b[1;31mTypeError\u001b[0m                                 Traceback (most recent call last)",
      "Cell \u001b[1;32mIn[40], line 6\u001b[0m\n\u001b[0;32m      3\u001b[0m \u001b[38;5;28mprint\u001b[39m(x,y,z, sep \u001b[38;5;241m=\u001b[39m \u001b[38;5;124m\"\u001b[39m\u001b[38;5;124m,\u001b[39m\u001b[38;5;124m\"\u001b[39m)\n\u001b[0;32m      5\u001b[0m tup \u001b[38;5;241m=\u001b[39m (\u001b[38;5;241m1\u001b[39m,\u001b[38;5;241m2\u001b[39m,\u001b[38;5;241m3\u001b[39m)\n\u001b[1;32m----> 6\u001b[0m \u001b[43mtup\u001b[49m\u001b[43m[\u001b[49m\u001b[38;5;241;43m0\u001b[39;49m\u001b[43m]\u001b[49m \u001b[38;5;241m=\u001b[39m \u001b[38;5;241m2\u001b[39m\n\u001b[0;32m      7\u001b[0m \u001b[38;5;28mprint\u001b[39m(tup)\n",
      "\u001b[1;31mTypeError\u001b[0m: 'tuple' object does not support item assignment"
     ]
    }
   ],
   "source": [
    "# unpacking \n",
    "x, y, z = [1,2,3]\n",
    "print(x,y,z, sep = \",\")\n",
    "\n",
    "tup = (1,2,3)\n",
    "tup[0] = 2\n",
    "print(tup)\n"
   ]
  },
  {
   "cell_type": "code",
   "execution_count": null,
   "id": "35db2c25-07cb-4d54-9ea7-7c38059003ad",
   "metadata": {},
   "outputs": [
    {
     "name": "stdout",
     "output_type": "stream",
     "text": [
      "<class 'list'>\n"
     ]
    }
   ],
   "source": [
    "l = [1,2,3,4]\n",
    "print(type(l))"
   ]
  },
  {
   "cell_type": "code",
   "execution_count": null,
   "id": "f4837fdb-25c6-487f-b409-df6c7a5e2981",
   "metadata": {},
   "outputs": [
    {
     "name": "stdout",
     "output_type": "stream",
     "text": [
      "[1, 2, 3, 4, 1, 2, 3, 4]\n"
     ]
    }
   ],
   "source": [
    "# Why do we use numpy arrays over lists\n",
    "# Numpy is more efficient in memorey compared to lists because it only allows for homegenous data \n",
    "# Behaves like an array\n",
    "list1 = [1,2,3,4]\n",
    "list2 = [1,2,3,4]\n",
    "combinedList = list1+list2\n",
    "print(combinedList)\n",
    "\n"
   ]
  },
  {
   "cell_type": "code",
   "execution_count": null,
   "id": "fed2cbc1-6ce3-47ac-88d0-4552561d9a03",
   "metadata": {},
   "outputs": [
    {
     "name": "stdout",
     "output_type": "stream",
     "text": [
      "[1 2 3 4] <class 'numpy.ndarray'>\n",
      "[2 4 6 8]\n"
     ]
    }
   ],
   "source": [
    "# We want to do element-wise operations \n",
    "import numpy as np\n",
    "list1 = [1,2,3,4]\n",
    "list2 = [1,2,3,4]\n",
    "arr1 = np.array(list1)\n",
    "print(arr1, type(arr))\n",
    "arr2 = np.array(list2)\n",
    "sum_vector = arr1+arr2\n",
    "print(sum_vector)\n"
   ]
  },
  {
   "cell_type": "code",
   "execution_count": null,
   "id": "26bc1d02-0043-4844-b73a-705849d0cea0",
   "metadata": {},
   "outputs": [
    {
     "name": "stdout",
     "output_type": "stream",
     "text": [
      "2.0\n",
      "7.5\n"
     ]
    }
   ],
   "source": [
    "# How division works in python, no truncation. Opposite of what java does\n",
    "print(10 / 5)  # same in java and python\n",
    "print(15 / 2)  # it gives the quotient, but not truncated\n"
   ]
  },
  {
   "cell_type": "code",
   "execution_count": null,
   "id": "bf02397e-b3b3-4855-95b6-c7289f7f6ae9",
   "metadata": {},
   "outputs": [
    {
     "ename": "TypeError",
     "evalue": "can only concatenate str (not \"int\") to str",
     "output_type": "error",
     "traceback": [
      "\u001b[1;31m---------------------------------------------------------------------------\u001b[0m",
      "\u001b[1;31mTypeError\u001b[0m                                 Traceback (most recent call last)",
      "Cell \u001b[1;32mIn[31], line 3\u001b[0m\n\u001b[0;32m      1\u001b[0m \u001b[38;5;66;03m# Unlike in Java, Python does not automatically concatenate a string with a number.\u001b[39;00m\n\u001b[0;32m      2\u001b[0m \u001b[38;5;66;03m# You must typecast the number into a string.\u001b[39;00m\n\u001b[1;32m----> 3\u001b[0m x \u001b[38;5;241m=\u001b[39m \u001b[38;5;124m\"\u001b[39m\u001b[38;5;124mName\u001b[39m\u001b[38;5;124m\"\u001b[39m \u001b[38;5;241m+\u001b[39m \u001b[38;5;241m5\u001b[39m\n\u001b[0;32m      4\u001b[0m \u001b[38;5;28mprint\u001b[39m(x)\n",
      "\u001b[1;31mTypeError\u001b[0m: can only concatenate str (not \"int\") to str"
     ]
    }
   ],
   "source": [
    "# Unlike in Java, Python does not automatically concatenate a string with a number.\n",
    "# You must typecast the number into a string.\n",
    "x = \"Name\" + 5\n",
    "print(x)"
   ]
  },
  {
   "cell_type": "code",
   "execution_count": null,
   "id": "8803529f-4656-4dea-96f7-45a89c7baa5c",
   "metadata": {},
   "outputs": [
    {
     "name": "stdout",
     "output_type": "stream",
     "text": [
      "Name2\n"
     ]
    }
   ],
   "source": [
    "# Solution to the previous problem, typecasting \n",
    "x = \"Name\" + str(2)\n",
    "print(x)"
   ]
  },
  {
   "cell_type": "code",
   "execution_count": null,
   "id": "8f2e3f0c-718c-4547-927c-cc0361c99d16",
   "metadata": {},
   "outputs": [
    {
     "name": "stdout",
     "output_type": "stream",
     "text": [
      "True\n",
      "True\n"
     ]
    }
   ],
   "source": [
    "# Comparing objects, for now, we will use String as the example \n",
    "z  = \"Abhi\"\n",
    "x = \"Abhi\"\n",
    "print( z == x)\n",
    "# Unlike Java, == compares the content, not the reference \n",
    "# To compare the reference, use the is operator \n",
    "print(z is x)"
   ]
  },
  {
   "cell_type": "code",
   "execution_count": null,
   "id": "9f982b26-7d64-4463-937b-a8574f46de46",
   "metadata": {},
   "outputs": [
    {
     "name": "stdout",
     "output_type": "stream",
     "text": [
      "True\n"
     ]
    }
   ],
   "source": [
    "# Logical operators \n",
    "x = True \n",
    "not(x)\n",
    "print(x)"
   ]
  },
  {
   "cell_type": "code",
   "execution_count": null,
   "id": "f60912a9-b899-433e-b360-d739dae7e176",
   "metadata": {},
   "outputs": [
    {
     "name": "stdout",
     "output_type": "stream",
     "text": [
      "10\n",
      "9\n",
      "8\n",
      "7\n",
      "6\n",
      "5\n",
      "4\n",
      "3\n",
      "2\n"
     ]
    }
   ],
   "source": [
    "# Loops test\n",
    "for i in range(1,10,-1):\n",
    "    print(i)\n",
    "\n",
    "# Incorrect because you can not loop down from 1 and still be between 1(inclusive) and 10(non-inclusive)\n",
    "\n",
    "for i in range(10, 1, -1):\n",
    "    print(i)"
   ]
  },
  {
   "cell_type": "code",
   "execution_count": null,
   "id": "828eafe0-b59a-40f0-8bec-8a9f77bfdc0e",
   "metadata": {},
   "outputs": [
    {
     "name": "stdout",
     "output_type": "stream",
     "text": [
      "1\n",
      "2\n",
      "3\n",
      "4\n"
     ]
    }
   ],
   "source": [
    "# What will this pring \n",
    "count = 1\n",
    "while count<5:\n",
    "    print(count)\n",
    "    count+=1"
   ]
  },
  {
   "cell_type": "code",
   "execution_count": null,
   "id": "634da9ee-fc75-45d3-86b5-6c7f1661f9c9",
   "metadata": {},
   "outputs": [
    {
     "name": "stdout",
     "output_type": "stream",
     "text": [
      "row: 0, col: 0\n",
      "row: 0, col: 1\n",
      "row: 0, col: 2\n",
      "row: 0, col: 3\n",
      "row: 1, col: 0\n",
      "row: 1, col: 1\n",
      "row: 1, col: 2\n",
      "row: 1, col: 3\n",
      "row: 2, col: 0\n",
      "row: 2, col: 1\n",
      "row: 2, col: 2\n",
      "row: 2, col: 3\n",
      "row: 3, col: 0\n",
      "row: 3, col: 1\n",
      "row: 3, col: 2\n",
      "row: 3, col: 3\n",
      "row: 4, col: 0\n",
      "row: 4, col: 1\n",
      "row: 4, col: 2\n",
      "row: 4, col: 3\n"
     ]
    }
   ],
   "source": [
    "# Nested loops test \n",
    "for row in range(5):\n",
    "    for col in range(4):\n",
    "        print(f'row: {row}, col: {col}')\n",
    "# Do not assume the time complexity of this program is 0(n^2). This is because each loop has a different value for n\n",
    "# Time complexity describes how the number of steps (or operations) an algorithm takes increases as the size of the input (n) increases."
   ]
  },
  {
   "cell_type": "code",
   "execution_count": null,
   "id": "7db1e599-9e83-4baf-800d-170ca60952d7",
   "metadata": {},
   "outputs": [
    {
     "name": "stdout",
     "output_type": "stream",
     "text": [
      "2\n",
      "3\n",
      "5\n",
      "7\n",
      "11\n"
     ]
    }
   ],
   "source": [
    "# The user will enter an input n. If n = 5, then the user wants the first five prime numbers.\n",
    "\n",
    "def isPrime(number):\n",
    "    for i in range(2, number):\n",
    "        if number % i == 0:\n",
    "            return False\n",
    "    return True\n",
    "        \n",
    "def generate_prime_numbers(n):\n",
    "    count_prime = 0\n",
    "    start = 2\n",
    "    while count_prime<n:\n",
    "        if(isPrime(start)):\n",
    "            print(start)\n",
    "            count_prime+=1\n",
    "        start+=1\n",
    "        \n",
    "    \n",
    "generate_prime_numbers(5)\n",
    "\n",
    "    "
   ]
  },
  {
   "cell_type": "code",
   "execution_count": null,
   "id": "e3f2bd19-a0d5-42c6-b48d-f0d8235ea5e2",
   "metadata": {},
   "outputs": [
    {
     "name": "stdout",
     "output_type": "stream",
     "text": [
      "*****\n",
      "*****\n",
      "*****\n",
      "*****\n",
      "*****\n"
     ]
    }
   ],
   "source": [
    "for row in range(5):\n",
    "    print(\"*\" * 5)"
   ]
  },
  {
   "cell_type": "code",
   "execution_count": null,
   "id": "55cb2ea6-a5b5-465d-8ffd-99b2c315b846",
   "metadata": {},
   "outputs": [
    {
     "name": "stdout",
     "output_type": "stream",
     "text": [
      "120\n"
     ]
    }
   ],
   "source": [
    "# Calculate factorial \n",
    "\n",
    "def facotrial(n):\n",
    "    number = 1\n",
    "    for i in range(n, 1, -1): # We do not go to one, there is no point \n",
    "        number  *= i\n",
    "    return number\n",
    "\n",
    "print(facotrial(5))\n",
    "\n",
    "# How can you do this recursivly"
   ]
  },
  {
   "cell_type": "code",
   "execution_count": null,
   "id": "417b19db-90f5-41ac-86f8-32b052b29c12",
   "metadata": {},
   "outputs": [
    {
     "name": "stdout",
     "output_type": "stream",
     "text": [
      "120\n"
     ]
    }
   ],
   "source": [
    "def recursive_factorial(n):\n",
    "    # When you use recursion, it is best to never use a variable to store \n",
    "    # your answer. Because if you call the same method again, the variable \n",
    "    # will be reset.\n",
    "    if n == 1:\n",
    "        return 1\n",
    "\n",
    "    return n * recursive_factorial(n-1)\n",
    "       \n",
    "print(recursive_factorial(5))  \n"
   ]
  },
  {
   "cell_type": "code",
   "execution_count": null,
   "id": "857594dc-7d14-495c-9b46-af637a981a13",
   "metadata": {},
   "outputs": [
    {
     "name": "stdout",
     "output_type": "stream",
     "text": [
      "[1, 2]\n"
     ]
    }
   ],
   "source": [
    "def main():\n",
    "    return [1,2]\n",
    "print(main())"
   ]
  },
  {
   "cell_type": "code",
   "execution_count": null,
   "id": "12f3d036-f8c5-4f6a-97bf-bbb323024657",
   "metadata": {},
   "outputs": [
    {
     "name": "stdout",
     "output_type": "stream",
     "text": [
      "Stringb\n"
     ]
    }
   ],
   "source": [
    "for c in \"String\":\n",
    "    print(c, end =  \"\")\n",
    "name = \"Abhi\"\n",
    "\n",
    "# String are immutable\n"
   ]
  },
  {
   "cell_type": "code",
   "execution_count": null,
   "id": "b8d595c9-7525-4420-be61-285eeea09a4a",
   "metadata": {},
   "outputs": [
    {
     "name": "stdout",
     "output_type": "stream",
     "text": [
      "0 1\n",
      "1 2\n",
      "2 3\n",
      "3 4\n"
     ]
    }
   ],
   "source": [
    "arr3 = [1,2,3,4]\n",
    "for index, number in enumerate(arr3):\n",
    "    print(index, number)"
   ]
  },
  {
   "cell_type": "code",
   "execution_count": null,
   "id": "4a942949-7489-498a-9139-b26315f6b494",
   "metadata": {},
   "outputs": [
    {
     "name": "stdout",
     "output_type": "stream",
     "text": [
      "[5, 1, 2, 3, 4]\n",
      "[4, 2]\n"
     ]
    }
   ],
   "source": [
    "list3 = [5, 1,2,3,4]\n",
    "print(list3[:])\n",
    "print(list3[-1:-4:-2])"
   ]
  },
  {
   "cell_type": "code",
   "execution_count": null,
   "id": "69c90567-b522-4540-9a33-e94d6c4a4c4f",
   "metadata": {},
   "outputs": [
    {
     "name": "stdout",
     "output_type": "stream",
     "text": [
      "[2, 4, 6, 8, 10]\n",
      "[[1, 1], [1, 4], [1, 9], [1, 16], [4, 1], [4, 4], [4, 9], [4, 16], [9, 1], [9, 4], [9, 9], [9, 16], [16, 1], [16, 4], [16, 9], [16, 16]]\n"
     ]
    }
   ],
   "source": [
    "# List Comprhension \n",
    "lis = [x for x in range(1, 11) if x%2==0]\n",
    "print(lis)\n",
    "\n",
    "lis3 = [[x**2,i**2] for x in range(1,5) for i in range(1, 5)] # nested loop\n",
    "print(lis3)\n",
    "\n",
    "\n"
   ]
  },
  {
   "cell_type": "code",
   "execution_count": null,
   "id": "4857f231-b3fe-478f-ba39-65fcf891d3a3",
   "metadata": {},
   "outputs": [
    {
     "name": "stdout",
     "output_type": "stream",
     "text": [
      "1\n",
      "[2, 3, 4]\n",
      "5\n",
      "2\n",
      "Index of element 2: 1\n"
     ]
    }
   ],
   "source": [
    "# tupeles \n",
    "t = (1,2,3,4,5)\n",
    "x, *y, z = t\n",
    "print(x)\n",
    "print(y)\n",
    "print(z)\n",
    "\n",
    "t= (1,1,2,3,4,5)\n",
    "number_of_occurences_for_one = t.count(1)\n",
    "print(number_of_occurences_for_one)\n",
    "lst = [1,2,3]\n",
    "print(f'Index of element 2: {lst.index(2)}')\n",
    "# same idea for set \n"
   ]
  },
  {
   "cell_type": "code",
   "execution_count": null,
   "id": "654200b8-ae3f-4cb2-b17a-95cb34c4e63c",
   "metadata": {},
   "outputs": [],
   "source": [
    "# Multi dimensional "
   ]
  },
  {
   "cell_type": "code",
   "execution_count": null,
   "id": "56599085-1611-46eb-9403-21f60c5a44d3",
   "metadata": {},
   "outputs": [
    {
     "name": "stdout",
     "output_type": "stream",
     "text": [
      "[[1, 2, 3], [1, 2], [1, 2, 5]]\n",
      "1\n",
      "[[[2, 2, 3]], [[1, 2]], [[2, 2, 5]]]\n",
      "1\n",
      "[2, 2, 3]\n"
     ]
    }
   ],
   "source": [
    "lst = [[1,2,3], \n",
    "       [1,2], \n",
    "       [1,2,5]] \n",
    "print(lst)\n",
    "# Lets say our goal was to get element 1 in the second row \n",
    "print(lst[1][0])\n",
    "\n",
    "# 3d array \n",
    "lst3d = [[[2,2,3]], \n",
    "         [[1,2]], \n",
    "         [[2,2,5]]]\n",
    "print(lst3d)\n",
    "# Lets try again to access 1 from depth 1, row 0, col 0 Let's\n",
    "print(lst3d[1][0][0])\n",
    "\n",
    "# Slicing also applies \n",
    "lst = (lst3d[0][0][::])\n",
    "\n",
    "print(lst)\n"
   ]
  },
  {
   "cell_type": "code",
   "execution_count": null,
   "id": "55a9d5ba-cdf9-4e89-a456-7ec908ea0108",
   "metadata": {
    "scrolled": true
   },
   "outputs": [
    {
     "name": "stdout",
     "output_type": "stream",
     "text": [
      "123\n",
      "12\n",
      "125\n"
     ]
    }
   ],
   "source": [
    "# loop through 2d \n",
    "lst = [[1,2,3], [1,2], [1,2,5]] \n",
    "for row in lst:\n",
    "    for col in row:\n",
    "        print(col, end = \"\")\n",
    "    print()"
   ]
  },
  {
   "cell_type": "code",
   "execution_count": null,
   "id": "768b3003-a2f3-487d-8d8c-bf35322e303f",
   "metadata": {},
   "outputs": [
    {
     "name": "stdout",
     "output_type": "stream",
     "text": [
      "0: [1, 2, 3]\n",
      "1: [1, 2]\n",
      "2: [1, 2, 5]\n"
     ]
    }
   ],
   "source": [
    "for row in enumerate(lst):\n",
    "    print(f'{row[0]}: {row[1]}')"
   ]
  },
  {
   "cell_type": "code",
   "execution_count": null,
   "id": "a3d5606b-3e7f-4271-857f-43e6b7aa950d",
   "metadata": {},
   "outputs": [
    {
     "name": "stdout",
     "output_type": "stream",
     "text": [
      "223\n",
      "12\n",
      "225\n"
     ]
    }
   ],
   "source": [
    "# What about 3d arrays\n",
    "lst3d\n",
    "for depth in lst3d:\n",
    "    for row in depth:\n",
    "        for col in row :\n",
    "            print(col, end = \"\")\n",
    "        print()"
   ]
  },
  {
   "cell_type": "code",
   "execution_count": null,
   "id": "fa68fd52-751f-4e24-a8b8-8fdcd5c86a93",
   "metadata": {},
   "outputs": [
    {
     "name": "stdout",
     "output_type": "stream",
     "text": [
      "122\n",
      "344\n",
      "566\n",
      "788\n"
     ]
    }
   ],
   "source": [
    "import numpy as np\n",
    "arr3d = np.array([\n",
    "    [[1, 2], [3, 4]],\n",
    "    [[5, 6], [7, 8]]\n",
    "])\n",
    "\n",
    "for depth in arr3d:\n",
    "    for row in depth:\n",
    "        for col in row:\n",
    "            print(col, end = \"\")\n",
    "        print(col)"
   ]
  },
  {
   "cell_type": "code",
   "execution_count": null,
   "id": "f36ce444-938d-4c8d-a0ab-209896ff5c2c",
   "metadata": {},
   "outputs": [
    {
     "name": "stdout",
     "output_type": "stream",
     "text": [
      "abhi\n"
     ]
    }
   ],
   "source": [
    "t = ('a', 'b', 'h', 'i')\n",
    "r = \"\"\n",
    "for c in t:\n",
    "    r += c\n",
    "print(r)\n",
    "    \n"
   ]
  },
  {
   "cell_type": "code",
   "execution_count": null,
   "id": "43046ee7-1978-4409-9fcd-15f8d318d691",
   "metadata": {},
   "outputs": [
    {
     "ename": "TypeError",
     "evalue": "'tuple' object does not support item assignment",
     "output_type": "error",
     "traceback": [
      "\u001b[1;31m---------------------------------------------------------------------------\u001b[0m",
      "\u001b[1;31mTypeError\u001b[0m                                 Traceback (most recent call last)",
      "Cell \u001b[1;32mIn[45], line 5\u001b[0m\n\u001b[0;32m      1\u001b[0m \u001b[38;5;66;03m# Tuple are ordered, duplicates allowed, immutable \u001b[39;00m\n\u001b[0;32m      2\u001b[0m \u001b[38;5;66;03m# sets, not ordered, mutable, duplicates are not allowed\u001b[39;00m\n\u001b[0;32m      4\u001b[0m t \u001b[38;5;241m=\u001b[39m (\u001b[38;5;241m1\u001b[39m,\u001b[38;5;241m3\u001b[39m,\u001b[38;5;241m2\u001b[39m)\n\u001b[1;32m----> 5\u001b[0m t[\u001b[38;5;241m0\u001b[39m] \u001b[38;5;241m=\u001b[39m \u001b[38;5;241m2\u001b[39m\n",
      "\u001b[1;31mTypeError\u001b[0m: 'tuple' object does not support item assignment"
     ]
    }
   ],
   "source": [
    "# Tuple are ordered, duplicates allowed, immutable \n",
    "# sets, not ordered, mutable, duplicates are not allowed\n",
    "\n",
    "t = (1,3,2,1)\n",
    "t[0] = 2"
   ]
  },
  {
   "cell_type": "code",
   "execution_count": null,
   "id": "21a7b425-3c38-4a39-8884-c7f75c14f4b7",
   "metadata": {},
   "outputs": [
    {
     "name": "stdout",
     "output_type": "stream",
     "text": [
      "{1, 2, 3}\n",
      "{2, 3, 5}\n"
     ]
    }
   ],
   "source": [
    "s = set(t)\n",
    "print(s)\n",
    "# since sets are unondered, no assignment \n",
    "s.add(5)\n",
    "s.remove(1)\n",
    "print(s)"
   ]
  },
  {
   "cell_type": "code",
   "execution_count": null,
   "id": "fa806d24-a28e-4161-918c-c80eaeaa8e12",
   "metadata": {},
   "outputs": [
    {
     "name": "stdout",
     "output_type": "stream",
     "text": [
      "{1, 2, 3, 4}\n",
      "True\n",
      "{2, 3}\n"
     ]
    }
   ],
   "source": [
    "\"\"\"\n",
    "Use a Set when:\n",
    "- You need to store unique items.\n",
    "- You need fast lookups( checking if an element is in a set) (average O(1) time complexity).\n",
    "- You need to perform set operations (like union, intersection).\n",
    "- You don’t care about the order of the elements.\n",
    "\n",
    "Use a Tuple when:\n",
    "- You need an ordered collection.\n",
    "- You need immutability (the data should not change).\n",
    "- You want to group multiple pieces of related data.\n",
    "- You need a hashable object (e.g., as a key in a dictionary).\n",
    "\"\"\"\n",
    "s = {1,2,3}\n",
    "s2 = {2,3,4}\n",
    "\n",
    "# A combined set, called union in the context of sets \n",
    "combined_s_s2 = s.union(s2)\n",
    "print(combined_s_s2)\n",
    "\n",
    "# 0(1), checking if an element exists in a set, also called set membership\n",
    "print(2 in s)\n",
    "\n",
    "# Intersection means from the two sets, find the common elements, and store it in a another set \n",
    "common_terms_set = s.intersection(s2)\n",
    "print(common_terms_set)\n",
    "\n",
    "# What if we want the previous set to contain only the common elements? We do not want to create a new set with the common elements."
   ]
  },
  {
   "cell_type": "code",
   "execution_count": null,
   "id": "3d58c8dd-d010-48a0-a232-2c069deca636",
   "metadata": {},
   "outputs": [
    {
     "name": "stdout",
     "output_type": "stream",
     "text": [
      "{2, 3}\n"
     ]
    }
   ],
   "source": [
    "# What if we want the previous set to contain only the common elements? We do not want to create a new set with the common elements.\n",
    "s.intersection_update(s2)\n",
    "print(s)"
   ]
  },
  {
   "cell_type": "code",
   "execution_count": null,
   "id": "45d39340-7e54-470b-97fc-f1d398658ce8",
   "metadata": {},
   "outputs": [
    {
     "name": "stdout",
     "output_type": "stream",
     "text": [
      "{4, 5}\n"
     ]
    }
   ],
   "source": [
    "s = {1, 2, 3, 4, 5}\n",
    "s2 = {7, 10, 1, 2, 3}\n",
    "\n",
    "# Create a new set with elements that are in s but not in s2\n",
    "s_final = s.difference(s2)\n",
    "\n",
    "print(s_final)  # Output: {4, 5}\n"
   ]
  },
  {
   "cell_type": "code",
   "execution_count": null,
   "id": "34b8274f-022d-4395-b08d-2172009e94b2",
   "metadata": {},
   "outputs": [],
   "source": [
    "s = {1, 2, 3, 4, 5}\n",
    "s2 = {7, 10, 1, 2, 3}\n",
    "\n",
    "# Remove elements from s that are also in s2\n",
    "s.difference_update(s2)\n",
    "\n",
    "print(s)  # Output: {4, 5}\n"
   ]
  },
  {
   "cell_type": "code",
   "execution_count": null,
   "id": "952ab2a4-e9db-45da-85e1-af53e682c12d",
   "metadata": {},
   "outputs": [
    {
     "data": {
      "text/plain": [
       "{5, 6}"
      ]
     },
     "execution_count": 62,
     "metadata": {},
     "output_type": "execute_result"
    }
   ],
   "source": [
    "set1 = {1,2,4,5}\n",
    "set2 = {1,2,4,6}\n",
    "set1.symmetric_difference(set2)\n"
   ]
  },
  {
   "cell_type": "code",
   "execution_count": null,
   "id": "8381bcbc-8ead-46fb-bd16-ae604a837a59",
   "metadata": {},
   "outputs": [
    {
     "name": "stdout",
     "output_type": "stream",
     "text": [
      "{'Hello', 'name', 'abhi', 'my', 'is'}\n"
     ]
    }
   ],
   "source": [
    "# A pratical application of why sets are usefull in nlp \n",
    "\n",
    "# From a sentene, we want some kind of data structure to hold the unqiue words, no repeats. \n",
    "\n",
    "text = \"Hello, my name is abhi\"\n",
    "\n",
    "words = text.split()\n",
    "\n",
    "# In many basic NLP tasks, punctuation is removed because it adds little to no semantic meaning:\n",
    "unique_words = set(w.strip(\",\") for w in words)\n",
    "\n",
    "\n",
    "\n",
    "print(unique_words)\n"
   ]
  },
  {
   "cell_type": "code",
   "execution_count": null,
   "id": "44845822",
   "metadata": {},
   "outputs": [
    {
     "name": "stdout",
     "output_type": "stream",
     "text": [
      "Hello, my name is abhi\n",
      "{'Hello', 'name', 'abhi', 'my', 'is'}\n"
     ]
    }
   ],
   "source": [
    "print(text)\n",
    "words = text.split()\n",
    "\n",
    "uw = set()\n",
    "\n",
    "for w in words:\n",
    "    w = w.strip(\",\")\n",
    "    uw.add(w)\n",
    "print(uw)\n",
    "\n"
   ]
  },
  {
   "cell_type": "code",
   "execution_count": null,
   "id": "396e8e6a",
   "metadata": {},
   "outputs": [
    {
     "name": "stdout",
     "output_type": "stream",
     "text": [
      "{1, 2, 3, 4, 5, 6, 7, 8, 9, 10}\n",
      "{1, 2, 3, 4, 5, 6, 7, 8, 9, 10, 11}\n",
      "1\n",
      "{3, 4, 5, 6, 7, 8, 9, 10, 11}\n"
     ]
    }
   ],
   "source": [
    "# Pratice sets \n",
    "\n",
    "x = set(x for x in range(1, 11))\n",
    "print(x)\n",
    "x.add(11)\n",
    "print(x)\n",
    "print(x.pop()) # removed the first element and returns it \n",
    "x.remove(2)\n",
    "print(x)"
   ]
  },
  {
   "cell_type": "code",
   "execution_count": null,
   "id": "f667632a",
   "metadata": {},
   "outputs": [
    {
     "name": "stdout",
     "output_type": "stream",
     "text": [
      "{1, 2, 3, 4, 5, 6, 8}\n",
      "{2, 4}\n",
      "{1, 3, 5}\n",
      "{1, 3, 5, 6, 8}\n"
     ]
    }
   ],
   "source": [
    "# Create two sets: one with the first 5 positive integers \n",
    "# and another with the first 5 even integers. Perform and \n",
    "# print the results of union, intersection, difference, \n",
    "# and symmetric difference operations on these sets.\n",
    "\n",
    "x = {1,2,3,4,5}\n",
    "y = {2,4,6,8}\n",
    "# Union\n",
    "z = x.union(y)\n",
    "print(z)\n",
    "\n",
    "# intersection\n",
    "d = x.intersection(y)\n",
    "print(d)\n",
    "\n",
    "# difference\n",
    "t = x.difference(y)\n",
    "print(t)\n",
    "\n",
    "g = x.symmetric_difference(y)\n",
    "print(g)\n",
    "\n",
    "\"\"\"\n",
    "\n",
    "set1 | set2  # union\n",
    "set1 & set2  # intersection\n",
    "set1 - set2  # difference\n",
    "set1 ^ set2  # symmetric difference\n",
    "\n",
    "\n",
    "\"\"\""
   ]
  },
  {
   "cell_type": "code",
   "execution_count": null,
   "id": "bd765b40",
   "metadata": {},
   "outputs": [
    {
     "name": "stdout",
     "output_type": "stream",
     "text": [
      "{1, 2}\n",
      "1\n",
      "2\n",
      "1\n",
      "2\n",
      "frozenset({1, 2, 3, 4})\n"
     ]
    }
   ],
   "source": [
    "# Regular set: duplicates are removed automatically\n",
    "x = {1, 1, 2, 2}   # x becomes {1, 2}\n",
    "print(x)\n",
    "\n",
    "# You can iterate through a set\n",
    "for e in x:\n",
    "    print(e)\n",
    "\n",
    "# Frozenset: an immutable version of a set\n",
    "y = frozenset(x)  # y is now a frozenset containing {1, 2}\n",
    "\n",
    "# You CAN do these with a frozenset:\n",
    "# - Iterate through it\n",
    "# - Use it in set operations (union, intersection, etc.)\n",
    "# - Use it as a dictionary key or element in another set because it's hashable\n",
    "\n",
    "for e in y:\n",
    "    print(e)\n",
    "\n",
    "# You CANNOT do these with a frozenset:\n",
    "# y.add(3)       # ❌ Error: 'frozenset' object has no attribute 'add'\n",
    "# y.remove(1)    # ❌ Error: 'frozenset' object has no attribute 'remove'\n",
    "\n",
    "# Example of valid set operation with frozenset:\n",
    "z = y | {3, 4}    # ✅ Creates a new set: {1, 2, 3, 4}\n",
    "print(z)\n"
   ]
  },
  {
   "cell_type": "code",
   "execution_count": null,
   "id": "4dade9ab",
   "metadata": {},
   "outputs": [],
   "source": [
    "\n"
   ]
  },
  {
   "cell_type": "code",
   "execution_count": null,
   "id": "99d25d73",
   "metadata": {},
   "outputs": [
    {
     "name": "stdout",
     "output_type": "stream",
     "text": [
      "{'Alice': 92, 'Bob': 85, 'Charlie': 78, 'Diana': 88}\n",
      "dict_items([('Alice', 92), ('Bob', 85), ('Charlie', 78), ('Diana', 88)])\n",
      "Student:Alice, Grade: 92\n",
      "Student:Bob, Grade: 85\n",
      "Student:Charlie, Grade: 78\n",
      "Student:Diana, Grade: 88\n"
     ]
    }
   ],
   "source": [
    "\n",
    "# Dict \n",
    "# Creating a dictionary with student names and their grades\n",
    "student_grades = {\n",
    "    \"Alice\": 92,\n",
    "    \"Bob\": 85,\n",
    "    \"Charlie\": 78,\n",
    "    \"Diana\": 88\n",
    "}\n",
    "\n",
    "print(student_grades)\n",
    "print(student_grades.items())\n",
    "\n",
    "for key, values in student_grades.items():\n",
    "    print(f'Student:{key}, Grade: {values}')\n"
   ]
  },
  {
   "cell_type": "code",
   "execution_count": null,
   "id": "3011283d",
   "metadata": {},
   "outputs": [
    {
     "name": "stdout",
     "output_type": "stream",
     "text": [
      "Alice: \n",
      " Math - 92\n",
      " English - 88\n",
      "Bob: \n",
      " Math - 85\n",
      " English - 90\n",
      "Charlie: \n",
      " Math - 78\n",
      " English - 83\n",
      "92\n",
      "{'Bob': {'Math': 85, 'English': 90}, 'Charlie': {'Math': 78, 'English': 83}}\n",
      "<class 'dict'>\n",
      "{'Abhi': 30}\n",
      "{'Abhi': 30}\n",
      "{'Bob': {'Math': 85, 'English': 90}, 'Charlie': {'Math': 78, 'English': 83}}\n",
      "{'Bob': {'Math': 60, 'English': 90}, 'Charlie': {'Math': 78, 'English': 83}}\n"
     ]
    }
   ],
   "source": [
    "# Nested Dict\n",
    " \n",
    "\n",
    "# Dictionary containing information about students and their subjects\n",
    "students = {\n",
    "    \"Alice\": {\n",
    "        \"Math\": 92,\n",
    "        \"English\": 88\n",
    "    },\n",
    "    \"Bob\": {\n",
    "        \"Math\": 85,\n",
    "        \"English\": 90\n",
    "    },\n",
    "    \"Charlie\": {\n",
    "        \"Math\": 78,\n",
    "        \"English\": 83\n",
    "    }\n",
    "}\n",
    "\n",
    "print(students.keys())\n",
    "\n",
    "for key, value in students.items():\n",
    "    print(f'{key}: ')\n",
    "    for subject, grade in value.items():\n",
    "        print(f' {subject} - {grade}')\n",
    "\n",
    "# Access elements \n",
    "\n",
    "# We want alice math grade \n",
    "print(students[\"Alice\"]['Math'])\n",
    "\n",
    "students.pop(\"Alice\")\n",
    "\n",
    "print(students)\n",
    "\n",
    "print(type(students))\n",
    "\n",
    "# Shalow copy\n",
    "\n",
    "dict1 = {\"Abhi\": 29}\n",
    "dict2 = dict1\n",
    "# dict2 is not an actual copy of dict1. It simply points to same memory location as dict1\n",
    "\n",
    "dict1['Abhi'] = 30\n",
    "print(dict2)\n",
    "\n",
    "dict2 = dict1.copy()\n",
    "dict1[\"Abhi\"] = 29\n",
    "print(dict2)\n",
    "\n",
    "# The above shallow copy \n",
    "# But this is not enought for nested dicts \n",
    "\n",
    "import copy\n",
    "students2 = copy.deepcopy(students)\n",
    "students['Bob']['Math'] = 60\n",
    "print(students2)\n",
    "print(students)"
   ]
  },
  {
   "cell_type": "code",
   "execution_count": null,
   "id": "3ce0bf29",
   "metadata": {},
   "outputs": [
    {
     "data": {
      "text/plain": [
       "[2, 4, 6, 8]"
      ]
     },
     "execution_count": 48,
     "metadata": {},
     "output_type": "execute_result"
    }
   ],
   "source": [
    "\"\"\"\n",
    "✅ DOs of lambda functions\n",
    "\n",
    "1. Use for short, one-liner functions.\n",
    "   Example: lambda x: x + 1\n",
    "\n",
    "2. Use when the function is only needed once or inline.\n",
    "   Example: sorted(data, key=lambda x: x[1])\n",
    "\n",
    "3. Use with functional tools like map(), filter(), reduce().\n",
    "   Example: list(map(lambda x: x * 2, nums))\n",
    "\n",
    "4. Use for anonymous functions in callbacks or GUI code.\n",
    "\n",
    "❌ DON'Ts of lambda functions\n",
    "\n",
    "1. Don't use for multi-line or complex logic — lambdas can only be one expression.\n",
    "\n",
    "2. Don't use if the function will be reused multiple times — use def instead.\n",
    "\n",
    "3. Don't use if control flow (if, for, while) is needed — not allowed in lambda.\n",
    "\n",
    "4. Don't use if the function needs a docstring or comments — use def for documentation.\n",
    "\n",
    "🔄 Comparison Summary\n",
    "\n",
    "| Feature              | lambda                   | def                          |\n",
    "|----------------------|--------------------------|------------------------------|\n",
    "| Named                | Optional/Anonymous       | Always named                 |\n",
    "| Reusable             | Usually not reused       | Yes                          |\n",
    "| Multi-line allowed   | No                       | Yes                          |\n",
    "| Readability          | Good for short, bad for complex | Best for clarity     |\n",
    "| Has docstrings       | No                       | Yes                          |\n",
    "\n",
    "🧠 Rule of Thumb:\n",
    "Use lambda for quick, throwaway, inline functions.\n",
    "Use def for reusable, complex, or well-documented functions.\n",
    "\"\"\"\n",
    "\n",
    "multplication = lambda x: x*2\n",
    "multplication(2)\n",
    "\n",
    "# How can I make this function work with list, without needing to \n",
    "# define an actual function and write to make it work with iterable data \n",
    "list(map(multplication, [1,2,3,4]))\n",
    "\n"
   ]
  },
  {
   "cell_type": "code",
   "execution_count": null,
   "id": "a84599cd",
   "metadata": {},
   "outputs": [
    {
     "data": {
      "text/plain": [
       "[2, 4, 6, 8]"
      ]
     },
     "execution_count": 1,
     "metadata": {},
     "output_type": "execute_result"
    }
   ],
   "source": [
    "lst = [1,2,3,4]\n",
    "lst2 = [1,2,3,4]\n",
    "# what about two iterables \n",
    "list(map(lambda x,y:x+y, lst, lst2))\n",
    "\n"
   ]
  },
  {
   "cell_type": "code",
   "execution_count": null,
   "id": "309721da",
   "metadata": {},
   "outputs": [
    {
     "data": {
      "text/plain": [
       "['abhi', 'Tom']"
      ]
     },
     "execution_count": 3,
     "metadata": {},
     "output_type": "execute_result"
    }
   ],
   "source": [
    "lst = [\n",
    "    {\"Name\": \"abhi\", \"age\": 29},\n",
    "    {\"Name\": \"Tom\", \"age\": 30}\n",
    "] \n",
    "\n",
    "def getName(person):\n",
    "    return person['Name']\n",
    "\n",
    "list(map(getName, lst))\n",
    "\n"
   ]
  },
  {
   "cell_type": "code",
   "execution_count": null,
   "id": "6712b9a1",
   "metadata": {},
   "outputs": [],
   "source": [
    "dict1 = {\"A\": 1, \"B\": 2}\n",
    "dict2 = {\"A\": 2, \"C\": 3}\n",
    "# if key appears, create a function that will merge the values of key into key. So A: 3 and stores in a new dict alongside other values\n",
    "\n",
    "        "
   ]
  },
  {
   "cell_type": "code",
   "execution_count": null,
   "id": "aeb422f0",
   "metadata": {},
   "outputs": [
    {
     "name": "stdout",
     "output_type": "stream",
     "text": [
      "ihBA\n",
      "(1, 1, 1, 1)\n",
      "True\n"
     ]
    }
   ],
   "source": [
    "string = 'ABhi'\n",
    "z = string[::-1]\n",
    "print(z)\n",
    "lst = (1,1,1,1)\n",
    "x = lst[::-1]\n",
    "print(x)\n",
    "if x == lst:\n",
    "    print(True)"
   ]
  },
  {
   "cell_type": "code",
   "execution_count": null,
   "id": "dfe77c93",
   "metadata": {},
   "outputs": [
    {
     "name": "stdout",
     "output_type": "stream",
     "text": [
      "dict_keys(['Abhi'])\n"
     ]
    }
   ],
   "source": [
    "l = {\"Abhi\": 1}\n",
    "print(l.keys())"
   ]
  },
  {
   "cell_type": "code",
   "execution_count": null,
   "id": "a2902922",
   "metadata": {},
   "outputs": [],
   "source": [
    "# For every package or subpackage you create, you must include an __init__.py file."
   ]
  },
  {
   "cell_type": "code",
   "execution_count": null,
   "id": "76046cf6",
   "metadata": {},
   "outputs": [
    {
     "name": "stdout",
     "output_type": "stream",
     "text": [
      "2\n",
      "D\n",
      "c:\\Udemy\\Hello\n"
     ]
    },
    {
     "data": {
      "text/plain": [
       "'desti.txt'"
      ]
     },
     "execution_count": 2,
     "metadata": {},
     "output_type": "execute_result"
    }
   ],
   "source": [
    "# Standard libraries \n",
    "\n",
    "import random\n",
    "print(random.randint(1,10)) # Include between both end points \n",
    "print(random.choice([\"A\", \"C\", \"D\"]))\n",
    "\n",
    "# File Directory access \n",
    "import os \n",
    "\n",
    "# Print current working directory \n",
    "print(os.getcwd())\n",
    "\n",
    "# Create a directoy \n",
    "# os.mkdir(\"Hello\")\n",
    "\n",
    "# copy file \n",
    "import shutil\n",
    "shutil.copyfile(\"text.txt\", \"desti.txt\")\n",
    "\n",
    "\n",
    "\n",
    "\n"
   ]
  },
  {
   "cell_type": "code",
   "execution_count": null,
   "id": "8adf15d5",
   "metadata": {},
   "outputs": [
    {
     "name": "stdout",
     "output_type": "stream",
     "text": [
      "{\"A\": 1, \"B\": 2} <class 'str'>\n"
     ]
    }
   ],
   "source": [
    "import json\n",
    "\n",
    "dic = {\"A\": 1, \"B\": 2}\n",
    "json_file = json.dumps(dic)\n",
    "print(json_file, type(json_file))"
   ]
  },
  {
   "cell_type": "code",
   "execution_count": null,
   "id": "000ec8e1",
   "metadata": {},
   "outputs": [],
   "source": [
    "import csv \n",
    "\n",
    "with open(\"file.csv\", \"w\", newline= \"\") as file:\n",
    "    # writer object \n",
    "    write = csv.writer(file)\n",
    "    write.writerow([\"Name\",\"Age\"])\n",
    "    write.writerows([\n",
    "        [\"Abhi\", 19],\n",
    "        [\"Tom\", 20],\n",
    "        [\"Bob\", 29, 30] # ragged csv filed cause no errors \n",
    "    ])\n",
    "    \n",
    "    "
   ]
  },
  {
   "cell_type": "code",
   "execution_count": null,
   "id": "5304c94b",
   "metadata": {},
   "outputs": [
    {
     "name": "stdout",
     "output_type": "stream",
     "text": [
      "['Name,Age\\n', 'Abhi,19\\n', 'Tom,20\\n', 'Bob,29,30\\n']\n"
     ]
    }
   ],
   "source": [
    "\"\"\"\n",
    "File Modes in Python's open() function:\n",
    "\n",
    "Text Modes:\n",
    "- \"w\"   : Write (overwrites file if it exists, creates if not)\n",
    "- \"a\"   : Append (adds to end of file, creates if not)\n",
    "- \"x\"   : Exclusive creation (creates file, fails if file exists)\n",
    "- \"w+\"  : Write and Read (overwrites file, allows reading)\n",
    "- \"a+\"  : Append and Read (preserves content, allows reading & appending)\n",
    "- \"x+\"  : Exclusive create and read (creates new file, error if exists)\n",
    "\n",
    "Binary Modes (add 'b' for binary files like images, PDFs):\n",
    "- \"wb\"   : Write binary\n",
    "- \"ab\"   : Append binary\n",
    "- \"xb\"   : Exclusive create binary\n",
    "- \"wb+\"  : Write and Read binary\n",
    "- \"ab+\"  : Append and Read binary\n",
    "- \"xb+\"  : Exclusive create and Read binary\n",
    "\n",
    "Notes:\n",
    "- Always use 'newline=\"\"' when writing CSV files on Windows to avoid extra blank lines.\n",
    "- Use 'b' modes when working with non-text files (e.g., images, audio).\n",
    "\"\"\"\n",
    "\n",
    "with open(\"file.csv\", 'r') as file:\n",
    "    lines = file.readlines() # returns an array \n",
    "    print(lines)\n",
    "    "
   ]
  },
  {
   "cell_type": "code",
   "execution_count": null,
   "id": "40c3f856",
   "metadata": {},
   "outputs": [
    {
     "name": "stdout",
     "output_type": "stream",
     "text": [
      "AbhiShyant!!\n"
     ]
    }
   ],
   "source": [
    "\"\"\"\n",
    "What is preprocessing in data science and machine learning?\n",
    "\n",
    "Preprocessing is the step of cleaning, transforming, or preparing raw data \n",
    "before feeding it into a machine learning model or analysis pipeline.\n",
    "\n",
    "Common preprocessing tasks:\n",
    "- Removing noise (e.g., punctuation, HTML tags, or stop words in text)\n",
    "- Handling missing values (e.g., filling in or dropping nulls)\n",
    "- Normalization or standardization of numerical data\n",
    "- Encoding categorical variables (e.g., label encoding, one-hot encoding)\n",
    "- Removing outliers\n",
    "- Converting data types (e.g., strings to datetime)\n",
    "- Tokenizing text (splitting sentences into words or phrases)\n",
    "\n",
    "Why it matters:\n",
    "- Raw data is often messy and inconsistent.\n",
    "- Machine learning models require clean, structured input.\n",
    "- Proper preprocessing improves model accuracy and efficiency.\n",
    "\n",
    "Example (text):\n",
    "Raw: \"Abhi     Shyant!!  \"\n",
    "Step 1: Remove extra spaces → \"Abhi Shyant!\"\n",
    "Step 2: Remove punctuation → \"Abhi Shyant\"\n",
    "Step 3: Lowercase → \"abhi shyant\"\n",
    "Step 4: Tokenize → [\"abhi\", \"shyant\"]\n",
    "\"\"\"\n",
    "\n",
    "line = \"Abhi     Shyant!!\"\n",
    "line = line.replace(\"     \", \"\")\n",
    "print(line)\n",
    "# regex is more btter here but we will come back to it latter \n"
   ]
  },
  {
   "cell_type": "code",
   "execution_count": null,
   "id": "7e28f6c1",
   "metadata": {},
   "outputs": [
    {
     "name": "stdout",
     "output_type": "stream",
     "text": [
      "Name,Age\n",
      "Abhi,19\n",
      "Tom,20\n",
      "Bob,29,30\n"
     ]
    }
   ],
   "source": [
    "with open(\"file.csv\", \"r\") as f:\n",
    "    for line in f:\n",
    "        print(line.strip())"
   ]
  },
  {
   "cell_type": "code",
   "execution_count": null,
   "id": "d875fa34",
   "metadata": {},
   "outputs": [
    {
     "name": "stdout",
     "output_type": "stream",
     "text": [
      "184\n"
     ]
    }
   ],
   "source": [
    "# A function that counts how many words in a file\n",
    "def count_words(file_path):\n",
    "    count = 0\n",
    "    with open(file_path, \"r\") as file:\n",
    "       for line in file:\n",
    "           line_list = line.strip().split()\n",
    "           count+=len(line_list)\n",
    "    return count\n",
    "            \n",
    "print(count_words(\"text.txt\")) \n",
    "\n",
    "# For now, lets not worry about exceptions, assume the file exists. \n",
    "# The previous code does not take into account punctuations. \n",
    "\n",
    "# The first way to solve this problem\n",
    "\n"
   ]
  },
  {
   "cell_type": "code",
   "execution_count": null,
   "id": "4113a129",
   "metadata": {},
   "outputs": [],
   "source": [
    "\"\"\"\n",
    "- BaseException\n",
    "  - Exception\n",
    "    - ArithmeticError\n",
    "      - FloatingPointError\n",
    "      - OverflowError\n",
    "      - ZeroDivisionError\n",
    "    - AssertionError\n",
    "    - AttributeError\n",
    "    - EOFError\n",
    "    - ImportError\n",
    "      - ModuleNotFoundError\n",
    "    - LookupError\n",
    "      - IndexError\n",
    "      - KeyError\n",
    "    - MemoryError\n",
    "    - NameError\n",
    "      - UnboundLocalError\n",
    "    - OSError\n",
    "      - FileNotFoundError\n",
    "      - PermissionError\n",
    "      - IsADirectoryError\n",
    "      - FileExistsError\n",
    "    - RuntimeError\n",
    "      - RecursionError\n",
    "    - SyntaxError\n",
    "      - IndentationError\n",
    "        - TabError\n",
    "    - TypeError\n",
    "    - ValueError\n",
    "    - UnicodeError\n",
    "      - UnicodeDecodeError\n",
    "      - UnicodeEncodeError\n",
    "      - UnicodeTranslateError\n",
    "  - GeneratorExit\n",
    "  - KeyboardInterrupt\n",
    "  - SystemExit\n",
    "\"\"\"\n",
    "\n",
    "\"\"\"\n",
    "\n",
    "try:\n",
    "except:\n",
    "else:\n",
    "finally\n",
    "\n",
    "\n",
    "\"\"\""
   ]
  }
 ],
 "metadata": {
  "kernelspec": {
   "display_name": "Python 3",
   "language": "python",
   "name": "python3"
  },
  "language_info": {
   "codemirror_mode": {
    "name": "ipython",
    "version": 3
   },
   "file_extension": ".py",
   "mimetype": "text/x-python",
   "name": "python",
   "nbconvert_exporter": "python",
   "pygments_lexer": "ipython3",
   "version": "3.12.3"
  }
 },
 "nbformat": 4,
 "nbformat_minor": 5
}
